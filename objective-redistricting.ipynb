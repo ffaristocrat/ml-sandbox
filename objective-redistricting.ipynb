{
 "cells": [
  {
   "cell_type": "code",
   "execution_count": 2,
   "metadata": {
    "pycharm": {
     "name": "#%%\n"
    }
   },
   "outputs": [],
   "source": [
    "import geopandas"
   ]
  },
  {
   "cell_type": "code",
   "execution_count": 3,
   "metadata": {
    "pycharm": {
     "name": "#%%\n"
    }
   },
   "outputs": [],
   "source": [
    "gdf = geopandas.read_file(\"zip://tabblock2010_53_pophu.zip\")"
   ]
  },
  {
   "cell_type": "code",
   "execution_count": 4,
   "metadata": {
    "pycharm": {
     "name": "#%%\n"
    }
   },
   "outputs": [],
   "source": [
    "districts = 10\n",
    "precision = 6\n",
    "max_tries = 30\n",
    "district_field = \"CD\"\n",
    "population_field = \"POP10\""
   ]
  },
  {
   "cell_type": "code",
   "execution_count": 5,
   "metadata": {
    "pycharm": {
     "name": "#%%\n"
    }
   },
   "outputs": [],
   "source": [
    "minx, miny, maxx, maxy = gdf.total_bounds\n",
    "target_population = int(gdf[population_field].sum() / districts)"
   ]
  },
  {
   "cell_type": "code",
   "execution_count": 6,
   "metadata": {
    "pycharm": {
     "name": "#%%\n"
    }
   },
   "outputs": [
    {
     "name": "stdout",
     "output_type": "stream",
     "text": [
      "Target 672454 for 10 districts\n",
      "District 1: target 672454\n",
      "0: -124.848974, -120.882277: 5252522\n",
      "1: -124.848974, -122.865626: 488396\n",
      "2: -124.848974, -121.873952: 5180892\n",
      "3: -124.848974, -122.369789: 2323935\n",
      "4: -124.848974, -122.617708: 1108570\n",
      "5: -124.848974, -122.741667: 686420\n",
      "6: -124.848974, -122.803647: 585924\n",
      "7: -124.848974, -122.772657: 634571\n",
      "8: -124.848974, -122.757162: 656585\n",
      "9: -124.848974, -122.749414: 669099\n",
      "10: -124.848974, -122.74554: 678441\n",
      "11: -124.848974, -122.747477: 675477\n",
      "12: -124.848974, -122.748446: 672949\n",
      "13: -124.848974, -122.74893: 670918\n",
      "14: -124.848974, -122.748688: 671537\n",
      "15: -124.848974, -122.748567: 671948\n",
      "16: -124.848974, -122.748506: 672791\n",
      "17: -124.848974, -122.748536: 672649\n",
      "18: -124.848974, -122.748551: 672649\n",
      "19: -124.848974, -122.748559: 672457\n",
      "20: -124.848974, -122.748563: 672234\n",
      "21: -124.848974, -122.748561: 672234\n",
      "22: -124.848974, -122.74856: 672234\n",
      "District 1: difference 3\n",
      "District 2: target 672454\n",
      "0: -122.748559, -119.83207: 4995983\n",
      "1: -122.748559, -121.290314: 4566001\n",
      "2: -122.748559, -122.019436: 4361233\n",
      "3: -122.748559, -122.383997: 1548644\n",
      "4: -122.748559, -122.566278: 651663\n",
      "5: -122.748559, -122.475137: 1118431\n",
      "6: -122.748559, -122.520708: 884098\n",
      "7: -122.748559, -122.543493: 765024\n",
      "8: -122.748559, -122.554886: 707883\n",
      "9: -122.748559, -122.560582: 679948\n",
      "10: -122.748559, -122.56343: 664546\n",
      "11: -122.748559, -122.562006: 671296\n",
      "12: -122.748559, -122.561294: 677307\n",
      "13: -122.748559, -122.56165: 673128\n",
      "14: -122.748559, -122.561828: 672173\n",
      "15: -122.748559, -122.561739: 673028\n",
      "16: -122.748559, -122.561784: 672229\n",
      "17: -122.748559, -122.561762: 672265\n",
      "18: -122.748559, -122.56175: 672990\n",
      "19: -122.748559, -122.561756: 672990\n",
      "20: -122.748559, -122.561759: 672964\n",
      "21: -122.748559, -122.56176: 672964\n",
      "22: -122.748559, -122.561761: 672964\n",
      "District 2: difference 189\n",
      "District 3: target 672454\n",
      "0: -122.561762, -119.738671: 4339265\n",
      "1: -122.561762, -121.150216: 3897501\n",
      "2: -122.561762, -121.855989: 3840965\n",
      "3: -122.561762, -122.208876: 2660703\n",
      "4: -122.561762, -122.385319: 869147\n",
      "5: -122.561762, -122.47354: 453291\n",
      "6: -122.561762, -122.42943: 653610\n",
      "7: -122.561762, -122.407374: 743611\n",
      "8: -122.561762, -122.418402: 698735\n",
      "9: -122.561762, -122.423916: 674502\n",
      "10: -122.561762, -122.426673: 666238\n",
      "11: -122.561762, -122.425294: 670626\n",
      "12: -122.561762, -122.424605: 672727\n",
      "13: -122.561762, -122.42495: 671165\n",
      "14: -122.561762, -122.424778: 672301\n",
      "15: -122.561762, -122.424692: 672727\n",
      "16: -122.561762, -122.424735: 672342\n",
      "17: -122.561762, -122.424714: 672706\n",
      "18: -122.561762, -122.424724: 672391\n",
      "19: -122.561762, -122.424719: 672448\n",
      "20: -122.561762, -122.424716: 672448\n",
      "21: -122.561762, -122.424715: 672448\n",
      "District 3: difference 6\n",
      "District 4: target 672454\n",
      "0: -122.424719, -119.67015: 3674092\n",
      "1: -122.424719, -121.047435: 3227441\n",
      "2: -122.424719, -121.736077: 3197967\n",
      "3: -122.424719, -122.080398: 2858436\n",
      "4: -122.424719, -122.252558: 1640457\n",
      "5: -122.424719, -122.338638: 647010\n",
      "6: -122.424719, -122.295598: 1246519\n",
      "7: -122.424719, -122.317118: 928849\n",
      "8: -122.424719, -122.327878: 776840\n",
      "9: -122.424719, -122.333258: 712652\n",
      "10: -122.424719, -122.335948: 676387\n",
      "11: -122.424719, -122.337293: 658718\n",
      "12: -122.424719, -122.336621: 665359\n",
      "13: -122.424719, -122.336284: 670460\n",
      "14: -122.424719, -122.336116: 672897\n",
      "15: -122.424719, -122.3362: 671550\n",
      "16: -122.424719, -122.336158: 671786\n",
      "17: -122.424719, -122.336137: 672110\n",
      "18: -122.424719, -122.336126: 672292\n",
      "19: -122.424719, -122.336121: 672292\n",
      "20: -122.424719, -122.336118: 672875\n",
      "21: -122.424719, -122.33612: 672392\n",
      "22: -122.424719, -122.336119: 672875\n",
      "District 4: difference 62\n",
      "District 5: target 672454\n",
      "0: -122.33612, -119.62585: 3006866\n",
      "1: -122.33612, -120.980985: 2557279\n",
      "2: -122.33612, -121.658552: 2533224\n",
      "3: -122.33612, -121.997336: 2399268\n",
      "4: -122.33612, -122.166728: 1737853\n",
      "5: -122.33612, -122.251424: 978483\n",
      "6: -122.33612, -122.293772: 596799\n",
      "7: -122.33612, -122.272598: 834637\n",
      "8: -122.33612, -122.283185: 734608\n",
      "9: -122.33612, -122.288478: 672775\n",
      "10: -122.33612, -122.291125: 644267\n",
      "11: -122.33612, -122.289802: 658131\n",
      "12: -122.33612, -122.28914: 664862\n",
      "13: -122.33612, -122.288809: 669232\n",
      "14: -122.33612, -122.288644: 671470\n",
      "15: -122.33612, -122.288561: 671760\n",
      "16: -122.33612, -122.28852: 672477\n",
      "17: -122.33612, -122.288541: 671760\n",
      "18: -122.33612, -122.28853: 671917\n",
      "19: -122.33612, -122.288525: 672395\n",
      "20: -122.33612, -122.288522: 672477\n",
      "21: -122.33612, -122.288524: 672395\n",
      "22: -122.33612, -122.288523: 672428\n",
      "District 5: difference 23\n",
      "District 6: target 672454\n",
      "0: -122.288522, -119.602051: 2336284\n",
      "1: -122.288522, -120.945287: 1887210\n",
      "2: -122.288522, -121.616904: 1861834\n",
      "3: -122.288522, -121.952713: 1782345\n",
      "4: -122.288522, -122.120618: 1365411\n",
      "5: -122.288522, -122.20457: 699194\n",
      "6: -122.288522, -122.246546: 339633\n",
      "7: -122.288522, -122.225558: 490802\n",
      "8: -122.288522, -122.215064: 589260\n",
      "9: -122.288522, -122.209817: 634480\n",
      "10: -122.288522, -122.207194: 665562\n",
      "11: -122.288522, -122.205882: 685895\n",
      "12: -122.288522, -122.206538: 680589\n",
      "13: -122.288522, -122.206866: 674811\n",
      "14: -122.288522, -122.20703: 670924\n",
      "15: -122.288522, -122.206948: 672483\n",
      "16: -122.288522, -122.206989: 671867\n",
      "17: -122.288522, -122.206968: 672103\n",
      "18: -122.288522, -122.206958: 672344\n",
      "19: -122.288522, -122.206953: 672434\n",
      "20: -122.288522, -122.20695: 672434\n",
      "21: -122.288522, -122.206949: 672441\n",
      "District 6: difference 13\n",
      "District 7: target 672454\n",
      "0: -122.206949, -119.561264: 1670157\n",
      "1: -122.206949, -120.884106: 1218035\n",
      "2: -122.206949, -121.545527: 1193868\n",
      "3: -122.206949, -121.876238: 1145875\n",
      "4: -122.206949, -122.041594: 940906\n",
      "5: -122.206949, -122.124271: 674978\n",
      "6: -122.206949, -122.16561: 400549\n",
      "7: -122.206949, -122.14494: 553988\n",
      "8: -122.206949, -122.134605: 615480\n",
      "9: -122.206949, -122.129438: 645626\n",
      "10: -122.206949, -122.126854: 661880\n",
      "11: -122.206949, -122.125562: 668231\n",
      "12: -122.206949, -122.124916: 670905\n",
      "13: -122.206949, -122.124594: 673038\n",
      "14: -122.206949, -122.124755: 671822\n",
      "15: -122.206949, -122.124674: 672529\n",
      "16: -122.206949, -122.124714: 672407\n",
      "17: -122.206949, -122.124694: 672469\n",
      "18: -122.206949, -122.124704: 672469\n",
      "19: -122.206949, -122.124709: 672469\n",
      "20: -122.206949, -122.124711: 672407\n",
      "21: -122.206949, -122.12471: 672469\n",
      "District 7: difference 15\n",
      "District 8: target 672454\n",
      "0: -122.12471, -119.520145: 1012831\n",
      "1: -122.12471, -120.822428: 549963\n",
      "2: -122.12471, -120.171287: 879433\n",
      "3: -122.12471, -120.496858: 723079\n",
      "4: -122.12471, -120.659643: 574877\n",
      "5: -122.12471, -120.57825: 612037\n",
      "6: -122.12471, -120.537554: 663202\n",
      "7: -122.12471, -120.517206: 700903\n",
      "8: -122.12471, -120.52738: 682376\n",
      "9: -122.12471, -120.532467: 672612\n",
      "10: -122.12471, -120.53501: 668362\n",
      "11: -122.12471, -120.533738: 669637\n",
      "12: -122.12471, -120.533102: 671066\n",
      "13: -122.12471, -120.532784: 672267\n",
      "14: -122.12471, -120.532626: 672539\n",
      "15: -122.12471, -120.532705: 672312\n",
      "16: -122.12471, -120.532666: 672539\n",
      "17: -122.12471, -120.532686: 672501\n",
      "18: -122.12471, -120.532696: 672501\n",
      "19: -122.12471, -120.5327: 672501\n",
      "20: -122.12471, -120.532702: 672312\n",
      "21: -122.12471, -120.532701: 672501\n",
      "District 8: difference 47\n",
      "District 9: target 672454\n",
      "0: -120.532701, -118.72414: 671486\n",
      "1: -120.532701, -117.81986: 772411\n",
      "2: -120.532701, -118.272: 734965\n",
      "3: -120.532701, -118.49807: 680000\n",
      "4: -120.532701, -118.611105: 677880\n",
      "5: -120.532701, -118.667622: 675836\n",
      "6: -120.532701, -118.695881: 673482\n",
      "7: -120.532701, -118.710011: 672301\n",
      "8: -120.532701, -118.702946: 672778\n",
      "9: -120.532701, -118.706478: 672644\n",
      "10: -120.532701, -118.708244: 672511\n",
      "11: -120.532701, -118.709128: 672392\n",
      "12: -120.532701, -118.708686: 672491\n",
      "13: -120.532701, -118.708907: 672404\n",
      "14: -120.532701, -118.708796: 672408\n",
      "15: -120.532701, -118.708741: 672439\n",
      "16: -120.532701, -118.708714: 672454\n",
      "District 9: difference 0\n",
      "District 10: 672636\n"
     ]
    }
   ],
   "source": [
    "print(f\"Target {target_population} for {districts} districts\")\n",
    "gdf[district_field] = None\n",
    "for district in range(1, districts):\n",
    "    ax, ay, bx, by = minx, miny, maxx, maxy\n",
    "\n",
    "    # dict to store every guess\n",
    "    considered = {}\n",
    "\n",
    "    print(f\"District {district}: target {target_population}\")\n",
    "    for i in range(max_tries):\n",
    "        midx = round((bx + ax) / 2, precision)\n",
    "        if (minx, midx) in considered:\n",
    "            break\n",
    "\n",
    "        population = int(gdf[gdf[district_field].isna()].cx[minx:midx,:][population_field].sum())\n",
    "        print(f\"{i}: {minx}, {midx}: {population}\")\n",
    "\n",
    "        considered[(minx, midx)] = abs(population - target_population)\n",
    "\n",
    "        if population > target_population:\n",
    "            bx = midx\n",
    "        elif population < target_population:\n",
    "            ax = midx\n",
    "        elif population == target_population:\n",
    "            break\n",
    "\n",
    "    # what was the best guess when we stopped\n",
    "    difference, minx, midx = sorted([(v, k[0], k[1]) for k, v in considered.items()])[0]\n",
    "    print(f\"District {district}: difference {difference}\")\n",
    "\n",
    "    select = gdf[gdf[district_field].isna()].cx[minx:midx, :].index\n",
    "    gdf.loc[select, district_field] = district\n",
    "    \n",
    "    minx = midx\n",
    "\n",
    "\n",
    "# we don't need to do the last district\n",
    "# it's just the remainder\n",
    "population = gdf[gdf[district_field].isna()][population_field].sum()\n",
    "print(f\"District {districts}: {population}\")\n",
    "\n",
    "select = gdf[gdf[district_field].isna()].index\n",
    "gdf.loc[select, district_field] = districts"
   ]
  },
  {
   "cell_type": "code",
   "execution_count": 7,
   "metadata": {
    "pycharm": {
     "name": "#%%\n"
    }
   },
   "outputs": [
    {
     "data": {
      "text/plain": "CD\n1       3\n2    -189\n3      -6\n4     -62\n5      23\n6     -13\n7      15\n8      47\n9       0\n10    182\nName: POP10, dtype: int64"
     },
     "execution_count": 7,
     "metadata": {},
     "output_type": "execute_result"
    }
   ],
   "source": [
    "gdf.groupby(\"CD\").POP10.sum() - target_population"
   ]
  },
  {
   "cell_type": "code",
   "execution_count": 8,
   "metadata": {
    "pycharm": {
     "name": "#%%\n"
    }
   },
   "outputs": [],
   "source": [
    "redistrict = gdf.dissolve(by=\"CD\", aggfunc=\"sum\")"
   ]
  },
  {
   "cell_type": "code",
   "execution_count": 9,
   "metadata": {
    "pycharm": {
     "name": "#%%\n"
    }
   },
   "outputs": [
    {
     "data": {
      "text/plain": "<Figure size 432x288 with 1 Axes>",
      "image/png": "[encoded data removed]"
     },
     "metadata": {
      "needs_background": "light"
     },
     "output_type": "display_data"
    }
   ],
   "source": [
    "fig = redistrict.boundary.plot()\n",
    "fig.set_axis_off()"
   ]
  },
  {
   "cell_type": "code",
   "execution_count": 10,
   "metadata": {
    "pycharm": {
     "name": "#%%\n"
    }
   },
   "outputs": [],
   "source": [
    "fig.figure.savefig(\"export.png\", dpi=1200)"
   ]
  },
  {
   "cell_type": "code",
   "execution_count": 10,
   "outputs": [],
   "source": [],
   "metadata": {
    "collapsed": false,
    "pycharm": {
     "name": "#%%\n"
    }
   }
  }
 ],
 "metadata": {
  "kernelspec": {
   "display_name": "Python 3 (ipykernel)",
   "language": "python",
   "name": "python3"
  },
  "language_info": {
   "codemirror_mode": {
    "name": "ipython",
    "version": 3
   },
   "file_extension": ".py",
   "mimetype": "text/x-python",
   "name": "python",
   "nbconvert_exporter": "python",
   "pygments_lexer": "ipython3",
   "version": "3.10.4"
  },
  "pycharm": {
   "stem_cell": {
    "cell_type": "raw",
    "metadata": {
     "collapsed": false
    },
    "source": [
     "import geopandas\n",
     "import geopandas\n"
    ]
   }
  }
 },
 "nbformat": 4,
 "nbformat_minor": 4
}